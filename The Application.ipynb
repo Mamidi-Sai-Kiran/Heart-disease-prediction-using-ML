{
 "cells": [
  {
   "cell_type": "code",
   "execution_count": 1,
   "metadata": {},
   "outputs": [],
   "source": [
    "# prediction of heart disease for a single patient input data\n",
    "# 1- no , 0 - yes"
   ]
  },
  {
   "cell_type": "code",
   "execution_count": 2,
   "metadata": {},
   "outputs": [],
   "source": [
    "import pandas as pd\n",
    "import numpy as np"
   ]
  },
  {
   "cell_type": "code",
   "execution_count": 3,
   "metadata": {},
   "outputs": [],
   "source": [
    "data = pd.read_csv(\"dataset.csv\")"
   ]
  },
  {
   "cell_type": "code",
   "execution_count": 4,
   "metadata": {},
   "outputs": [],
   "source": [
    "# splitting the dataset\n",
    "x = data.drop(\"target\", axis=1)\n",
    "y = data[\"target\"]"
   ]
  },
  {
   "cell_type": "code",
   "execution_count": 5,
   "metadata": {},
   "outputs": [],
   "source": [
    "from sklearn.model_selection import train_test_split\n",
    "x_train, x_test, y_train, y_test = train_test_split(x, y, test_size=0.20,random_state=0)"
   ]
  },
  {
   "cell_type": "code",
   "execution_count": 6,
   "metadata": {},
   "outputs": [
    {
     "data": {
      "text/plain": [
       "KNeighborsClassifier(n_neighbors=1)"
      ]
     },
     "execution_count": 6,
     "metadata": {},
     "output_type": "execute_result"
    }
   ],
   "source": [
    "from sklearn.neighbors import KNeighborsClassifier\n",
    "knn =  KNeighborsClassifier(n_neighbors=1)\n",
    "knn.fit(x_train, y_train) # when we fit a KNN model it learns or stores the dataset in memory."
   ]
  },
  {
   "cell_type": "code",
   "execution_count": 7,
   "metadata": {},
   "outputs": [],
   "source": [
    "# Giving inputs to the machine learning model\n",
    "\n",
    "# features = [[age,sex,cp,trestbps,chol,fbs,restecg,thalach,exang,oldpeak,scope,ca,thal]]\n",
    "\n",
    "# The above features is a numpy array which is the input type for a machine learning model"
   ]
  },
  {
   "cell_type": "code",
   "execution_count": 8,
   "metadata": {},
   "outputs": [],
   "source": [
    "patient1_data = np.array([[63,1,3,145,233,1,0,150,0,2.3,0,0,1]])\n",
    "patient2_data = np.array([[37,1,2,130,250,0,1,187,0,3.5,0,0,2]])\n",
    "patient3_data = np.array([[57,0,0,120,354,0,1,163,1,0.6,2,0,2]])\n",
    "patient4_data = np.array([[46,1,0,120,249,0,0,144,0,0.8,2,0,3]])\n",
    "patient5_data = np.array([[58,1,1,120,284,0,0,160,0,1.8,1,0,2]])\n",
    "patient6_data = np.array([[55,1,3,120,275,1,0,143,0,2.3,0,0,1]])"
   ]
  },
  {
   "cell_type": "code",
   "execution_count": 9,
   "metadata": {},
   "outputs": [],
   "source": [
    "########## [0] = Presence of Heart Disease   [1] = Absence of Heart Disease ###########"
   ]
  },
  {
   "cell_type": "code",
   "execution_count": 10,
   "metadata": {},
   "outputs": [
    {
     "name": "stdout",
     "output_type": "stream",
     "text": [
      "Prediction for patient 1: [1]\n",
      "Prediction for patient 2: [1]\n",
      "Prediction for patient 3: [1]\n",
      "Prediction for patient 4: [1]\n",
      "Prediction for patient 5: [0]\n",
      "Prediction for patient 6: [1]\n"
     ]
    }
   ],
   "source": [
    "prediction1 = knn.predict(patient1_data)\n",
    "print(\"Prediction for patient 1: {}\".format(prediction1))\n",
    "\n",
    "prediction2 = knn.predict(patient2_data)\n",
    "print(\"Prediction for patient 2: {}\".format(prediction2))\n",
    "\n",
    "prediction3 = knn.predict(patient3_data)\n",
    "print(\"Prediction for patient 3: {}\".format(prediction3))\n",
    "\n",
    "prediction4 = knn.predict(patient4_data)\n",
    "print(\"Prediction for patient 4: {}\".format(prediction4))\n",
    "\n",
    "\n",
    "prediction5 = knn.predict(patient5_data)\n",
    "print(\"Prediction for patient 5: {}\".format(prediction5))\n",
    "\n",
    "\n",
    "prediction6 = knn.predict(patient6_data)\n",
    "print(\"Prediction for patient 6: {}\".format(prediction6))"
   ]
  }
 ],
 "metadata": {
  "kernelspec": {
   "display_name": "Python 3",
   "language": "python",
   "name": "python3"
  },
  "language_info": {
   "codemirror_mode": {
    "name": "ipython",
    "version": 3
   },
   "file_extension": ".py",
   "mimetype": "text/x-python",
   "name": "python",
   "nbconvert_exporter": "python",
   "pygments_lexer": "ipython3",
   "version": "3.8.5"
  }
 },
 "nbformat": 4,
 "nbformat_minor": 5
}
